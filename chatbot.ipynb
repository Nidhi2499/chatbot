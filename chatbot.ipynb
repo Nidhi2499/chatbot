{
  "nbformat": 4,
  "nbformat_minor": 0,
  "metadata": {
    "colab": {
      "provenance": [],
      "authorship_tag": "ABX9TyMPaMtVawS33c0rBfD8lCeL",
      "include_colab_link": true
    },
    "kernelspec": {
      "name": "python3",
      "display_name": "Python 3"
    },
    "language_info": {
      "name": "python"
    }
  },
  "cells": [
    {
      "cell_type": "markdown",
      "metadata": {
        "id": "view-in-github",
        "colab_type": "text"
      },
      "source": [
        "<a href=\"https://colab.research.google.com/github/Nidhi2499/chatbot/blob/main/chatbot.ipynb\" target=\"_parent\"><img src=\"https://colab.research.google.com/assets/colab-badge.svg\" alt=\"Open In Colab\"/></a>"
      ]
    },
    {
      "cell_type": "code",
      "execution_count": 1,
      "metadata": {
        "id": "-XJELxBc4xEF"
      },
      "outputs": [],
      "source": [
        "# Description : This is a smart chatbot programme"
      ]
    },
    {
      "cell_type": "code",
      "source": [
        "pip install nltk"
      ],
      "metadata": {
        "colab": {
          "base_uri": "https://localhost:8080/"
        },
        "id": "_28eiltb5Lfp",
        "outputId": "3b33ec55-eb64-4a95-870e-ac4515a5e6cb"
      },
      "execution_count": 27,
      "outputs": [
        {
          "output_type": "stream",
          "name": "stdout",
          "text": [
            "Requirement already satisfied: nltk in /usr/local/lib/python3.10/dist-packages (3.8.1)\n",
            "Requirement already satisfied: click in /usr/local/lib/python3.10/dist-packages (from nltk) (8.1.7)\n",
            "Requirement already satisfied: joblib in /usr/local/lib/python3.10/dist-packages (from nltk) (1.4.2)\n",
            "Requirement already satisfied: regex>=2021.8.3 in /usr/local/lib/python3.10/dist-packages (from nltk) (2024.5.15)\n",
            "Requirement already satisfied: tqdm in /usr/local/lib/python3.10/dist-packages (from nltk) (4.66.5)\n"
          ]
        }
      ]
    },
    {
      "cell_type": "code",
      "source": [
        "pip install newspaper3k\n"
      ],
      "metadata": {
        "colab": {
          "base_uri": "https://localhost:8080/"
        },
        "id": "nRGq55RA5SX9",
        "outputId": "f835a7fe-345c-493e-cf64-49b937fb831d"
      },
      "execution_count": 3,
      "outputs": [
        {
          "output_type": "stream",
          "name": "stdout",
          "text": [
            "Collecting newspaper3k\n",
            "  Downloading newspaper3k-0.2.8-py3-none-any.whl.metadata (11 kB)\n",
            "Requirement already satisfied: beautifulsoup4>=4.4.1 in /usr/local/lib/python3.10/dist-packages (from newspaper3k) (4.12.3)\n",
            "Requirement already satisfied: Pillow>=3.3.0 in /usr/local/lib/python3.10/dist-packages (from newspaper3k) (9.4.0)\n",
            "Requirement already satisfied: PyYAML>=3.11 in /usr/local/lib/python3.10/dist-packages (from newspaper3k) (6.0.2)\n",
            "Collecting cssselect>=0.9.2 (from newspaper3k)\n",
            "  Downloading cssselect-1.2.0-py2.py3-none-any.whl.metadata (2.2 kB)\n",
            "Requirement already satisfied: lxml>=3.6.0 in /usr/local/lib/python3.10/dist-packages (from newspaper3k) (4.9.4)\n",
            "Requirement already satisfied: nltk>=3.2.1 in /usr/local/lib/python3.10/dist-packages (from newspaper3k) (3.8.1)\n",
            "Requirement already satisfied: requests>=2.10.0 in /usr/local/lib/python3.10/dist-packages (from newspaper3k) (2.32.3)\n",
            "Collecting feedparser>=5.2.1 (from newspaper3k)\n",
            "  Downloading feedparser-6.0.11-py3-none-any.whl.metadata (2.4 kB)\n",
            "Collecting tldextract>=2.0.1 (from newspaper3k)\n",
            "  Downloading tldextract-5.1.2-py3-none-any.whl.metadata (11 kB)\n",
            "Collecting feedfinder2>=0.0.4 (from newspaper3k)\n",
            "  Downloading feedfinder2-0.0.4.tar.gz (3.3 kB)\n",
            "  Preparing metadata (setup.py) ... \u001b[?25l\u001b[?25hdone\n",
            "Collecting jieba3k>=0.35.1 (from newspaper3k)\n",
            "  Downloading jieba3k-0.35.1.zip (7.4 MB)\n",
            "\u001b[2K     \u001b[90m━━━━━━━━━━━━━━━━━━━━━━━━━━━━━━━━━━━━━━━━\u001b[0m \u001b[32m7.4/7.4 MB\u001b[0m \u001b[31m22.2 MB/s\u001b[0m eta \u001b[36m0:00:00\u001b[0m\n",
            "\u001b[?25h  Preparing metadata (setup.py) ... \u001b[?25l\u001b[?25hdone\n",
            "Requirement already satisfied: python-dateutil>=2.5.3 in /usr/local/lib/python3.10/dist-packages (from newspaper3k) (2.8.2)\n",
            "Collecting tinysegmenter==0.3 (from newspaper3k)\n",
            "  Downloading tinysegmenter-0.3.tar.gz (16 kB)\n",
            "  Preparing metadata (setup.py) ... \u001b[?25l\u001b[?25hdone\n",
            "Requirement already satisfied: soupsieve>1.2 in /usr/local/lib/python3.10/dist-packages (from beautifulsoup4>=4.4.1->newspaper3k) (2.6)\n",
            "Requirement already satisfied: six in /usr/local/lib/python3.10/dist-packages (from feedfinder2>=0.0.4->newspaper3k) (1.16.0)\n",
            "Collecting sgmllib3k (from feedparser>=5.2.1->newspaper3k)\n",
            "  Downloading sgmllib3k-1.0.0.tar.gz (5.8 kB)\n",
            "  Preparing metadata (setup.py) ... \u001b[?25l\u001b[?25hdone\n",
            "Requirement already satisfied: click in /usr/local/lib/python3.10/dist-packages (from nltk>=3.2.1->newspaper3k) (8.1.7)\n",
            "Requirement already satisfied: joblib in /usr/local/lib/python3.10/dist-packages (from nltk>=3.2.1->newspaper3k) (1.4.2)\n",
            "Requirement already satisfied: regex>=2021.8.3 in /usr/local/lib/python3.10/dist-packages (from nltk>=3.2.1->newspaper3k) (2024.5.15)\n",
            "Requirement already satisfied: tqdm in /usr/local/lib/python3.10/dist-packages (from nltk>=3.2.1->newspaper3k) (4.66.5)\n",
            "Requirement already satisfied: charset-normalizer<4,>=2 in /usr/local/lib/python3.10/dist-packages (from requests>=2.10.0->newspaper3k) (3.3.2)\n",
            "Requirement already satisfied: idna<4,>=2.5 in /usr/local/lib/python3.10/dist-packages (from requests>=2.10.0->newspaper3k) (3.8)\n",
            "Requirement already satisfied: urllib3<3,>=1.21.1 in /usr/local/lib/python3.10/dist-packages (from requests>=2.10.0->newspaper3k) (2.0.7)\n",
            "Requirement already satisfied: certifi>=2017.4.17 in /usr/local/lib/python3.10/dist-packages (from requests>=2.10.0->newspaper3k) (2024.8.30)\n",
            "Collecting requests-file>=1.4 (from tldextract>=2.0.1->newspaper3k)\n",
            "  Downloading requests_file-2.1.0-py2.py3-none-any.whl.metadata (1.7 kB)\n",
            "Requirement already satisfied: filelock>=3.0.8 in /usr/local/lib/python3.10/dist-packages (from tldextract>=2.0.1->newspaper3k) (3.16.0)\n",
            "Downloading newspaper3k-0.2.8-py3-none-any.whl (211 kB)\n",
            "\u001b[2K   \u001b[90m━━━━━━━━━━━━━━━━━━━━━━━━━━━━━━━━━━━━━━━━\u001b[0m \u001b[32m211.1/211.1 kB\u001b[0m \u001b[31m13.5 MB/s\u001b[0m eta \u001b[36m0:00:00\u001b[0m\n",
            "\u001b[?25hDownloading cssselect-1.2.0-py2.py3-none-any.whl (18 kB)\n",
            "Downloading feedparser-6.0.11-py3-none-any.whl (81 kB)\n",
            "\u001b[2K   \u001b[90m━━━━━━━━━━━━━━━━━━━━━━━━━━━━━━━━━━━━━━━━\u001b[0m \u001b[32m81.3/81.3 kB\u001b[0m \u001b[31m4.9 MB/s\u001b[0m eta \u001b[36m0:00:00\u001b[0m\n",
            "\u001b[?25hDownloading tldextract-5.1.2-py3-none-any.whl (97 kB)\n",
            "\u001b[2K   \u001b[90m━━━━━━━━━━━━━━━━━━━━━━━━━━━━━━━━━━━━━━━━\u001b[0m \u001b[32m97.6/97.6 kB\u001b[0m \u001b[31m6.1 MB/s\u001b[0m eta \u001b[36m0:00:00\u001b[0m\n",
            "\u001b[?25hDownloading requests_file-2.1.0-py2.py3-none-any.whl (4.2 kB)\n",
            "Building wheels for collected packages: tinysegmenter, feedfinder2, jieba3k, sgmllib3k\n",
            "  Building wheel for tinysegmenter (setup.py) ... \u001b[?25l\u001b[?25hdone\n",
            "  Created wheel for tinysegmenter: filename=tinysegmenter-0.3-py3-none-any.whl size=13540 sha256=37b20c721d921fda78816e000e3227e4b035d0a8553ac9325922c5324433a3de\n",
            "  Stored in directory: /root/.cache/pip/wheels/c8/d6/6c/384f58df48c00b9a31d638005143b5b3ac62c3d25fb1447f23\n",
            "  Building wheel for feedfinder2 (setup.py) ... \u001b[?25l\u001b[?25hdone\n",
            "  Created wheel for feedfinder2: filename=feedfinder2-0.0.4-py3-none-any.whl size=3342 sha256=03c91b3fe19eb4411d464f12dc926a964865ca48b1d1796b03f4fa74b4a4757e\n",
            "  Stored in directory: /root/.cache/pip/wheels/97/02/e7/a1ff1760e12bdbaab0ac824fae5c1bc933e41c4ccd6a8f8edb\n",
            "  Building wheel for jieba3k (setup.py) ... \u001b[?25l\u001b[?25hdone\n",
            "  Created wheel for jieba3k: filename=jieba3k-0.35.1-py3-none-any.whl size=7398380 sha256=ed7c35937b2096f9fa1a7d7ebad62a75f64afd99bc9e43c0a76200b5c3c2d581\n",
            "  Stored in directory: /root/.cache/pip/wheels/7a/c4/0c/12a9a314ecac499456c4c3b2fcc2f635a3b45a39dfbd240299\n",
            "  Building wheel for sgmllib3k (setup.py) ... \u001b[?25l\u001b[?25hdone\n",
            "  Created wheel for sgmllib3k: filename=sgmllib3k-1.0.0-py3-none-any.whl size=6047 sha256=2e2cfd1307a85340b5a0f183c9986d4be5cbb42d0ef86ad0e4c6797e3787ee4f\n",
            "  Stored in directory: /root/.cache/pip/wheels/f0/69/93/a47e9d621be168e9e33c7ce60524393c0b92ae83cf6c6e89c5\n",
            "Successfully built tinysegmenter feedfinder2 jieba3k sgmllib3k\n",
            "Installing collected packages: tinysegmenter, sgmllib3k, jieba3k, feedparser, cssselect, requests-file, feedfinder2, tldextract, newspaper3k\n",
            "Successfully installed cssselect-1.2.0 feedfinder2-0.0.4 feedparser-6.0.11 jieba3k-0.35.1 newspaper3k-0.2.8 requests-file-2.1.0 sgmllib3k-1.0.0 tinysegmenter-0.3 tldextract-5.1.2\n"
          ]
        }
      ]
    },
    {
      "cell_type": "code",
      "source": [
        "from newspaper import Article\n",
        "import random\n",
        "import string\n",
        "import nltk\n",
        "from sklearn.feature_extraction.text import CountVectorizer\n",
        "from sklearn.metrics.pairwise import cosine_similarity\n",
        "import numpy as np\n",
        "import warnings\n",
        "warnings.filterwarnings('ignore')"
      ],
      "metadata": {
        "id": "UqniDclX5iBA"
      },
      "execution_count": 28,
      "outputs": []
    },
    {
      "cell_type": "code",
      "source": [
        "nltk.download('punkt', quiet =True)"
      ],
      "metadata": {
        "colab": {
          "base_uri": "https://localhost:8080/"
        },
        "id": "UpdlZg5B7FVJ",
        "outputId": "05aa14c4-3112-4896-c51e-64e4aa1e2bc7"
      },
      "execution_count": 5,
      "outputs": [
        {
          "output_type": "execute_result",
          "data": {
            "text/plain": [
              "True"
            ]
          },
          "metadata": {},
          "execution_count": 5
        }
      ]
    },
    {
      "cell_type": "code",
      "source": [
        "article = Article('https://my.clevelandclinic.org/health/diseases/6149-brain-cancer-brain-tumor')\n",
        "article.download()\n",
        "article.parse()\n",
        "article.nlp()\n",
        "corpus = article.text"
      ],
      "metadata": {
        "id": "8WEvCirx7Rkl"
      },
      "execution_count": 29,
      "outputs": []
    },
    {
      "cell_type": "code",
      "source": [
        "print (corpus)"
      ],
      "metadata": {
        "colab": {
          "base_uri": "https://localhost:8080/"
        },
        "id": "7aOM2_oC8YeO",
        "outputId": "18e49a88-486a-4519-f915-286e5d4c6be3"
      },
      "execution_count": 30,
      "outputs": [
        {
          "output_type": "stream",
          "name": "stdout",
          "text": [
            "What is a brain tumor?\n",
            "\n",
            "A brain tumor is an abnormal growth or mass of cells in or around your brain. Together, spinal tumors and brain tumors are called central nervous system (CNS) tumors.\n",
            "\n",
            "Brain tumors can be malignant (cancerous) or benign (noncancerous). Some tumors grow quickly, while others are slow growing.\n",
            "\n",
            "Only about one-third of brain tumors are cancerous. But whether they’re cancerous or not, brain tumors can impact brain function and your health if they grow large enough to press on surrounding nerves, blood vessels and tissue.\n",
            "\n",
            "Tumors that develop in your brain are called primary tumors. Tumors that spread to your brain after forming in a different part of your body are called secondary tumors, or metastatic brain tumors. This article focuses on primary brain tumors.\n",
            "\n",
            "Advertisement Cleveland Clinic is a non-profit academic medical center. Advertising on our site helps support our mission. We do not endorse non-Cleveland Clinic products or services. Policy\n",
            "\n",
            "What are the types of brain tumors?\n",
            "\n",
            "Researchers have identified more than 150 different brain tumors.\n",
            "\n",
            "Healthcare providers categorize primary tumors as glial (composed of glial cells in your brain) or non-glial (developed on or in the structures of your brain, including nerves, blood vessels and glands) and benign (noncancerous) or malignant (cancerous).\n",
            "\n",
            "Many types of brain tumors can also form in your spinal cord or column.\n",
            "\n",
            "Usually benign brain tumors\n",
            "\n",
            "Types of brain tumors that are usually benign include:\n",
            "\n",
            "Chordomas : These slow-growing tumors typically begin at the base of your skull and the bottom part of your spine. They’re mostly benign.\n",
            "\n",
            ": These slow-growing tumors typically begin at the base of your skull and the bottom part of your spine. They’re mostly benign. Craniopharyngiomas : These tumors usually arise from a portion of your pituitary gland. They’re difficult tumors to remove because of their location near critical structures deep in your brain.\n",
            "\n",
            ": These tumors usually arise from a portion of your pituitary gland. They’re difficult tumors to remove because of their location near critical structures deep in your brain. Gangliocytomas, gangliomas and anaplastic gangliogliomas : These are rare tumors that form in neurons (nerve cells).\n",
            "\n",
            ": These are rare tumors that form in neurons (nerve cells). Glomus jugulare : These tumors are typically located just under the base of your skull at the top of your jugular vein (neck vein). They’re the most common form of glomus tumor.\n",
            "\n",
            ": These tumors are typically located just under the base of your skull at the top of your jugular vein (neck vein). They’re the most common form of glomus tumor. Meningiomas : These are the most common type of primary brain tumors. Meningiomas typically develop slowly. They form in the meninges, the layers of tissue that protect your brain and spinal cord. In rare cases, a meningioma can be malignant.\n",
            "\n",
            ": These are the most common type of primary brain tumors. Meningiomas typically develop slowly. They form in the meninges, the layers of tissue that protect your brain and spinal cord. In rare cases, a meningioma can be malignant. Pineocytomas : These slow-growing tumors form in your pineal gland, which is located deep in your brain and secretes the hormone melatonin.\n",
            "\n",
            ": These slow-growing tumors form in your pineal gland, which is located deep in your brain and secretes the hormone melatonin. Pituitary adenomas : These tumors form in your pituitary gland, which is located at the base of your brain. Your pituitary gland makes and controls hormones in your body. Pituitary adenomas are usually slow growing and they may release excess pituitary hormones.\n",
            "\n",
            ": These tumors form in your pituitary gland, which is located at the base of your brain. Your pituitary gland makes and controls hormones in your body. Pituitary adenomas are usually slow growing and they may release excess pituitary hormones. Schwannomas: These are common benign brain tumors in adults. They develop from the Schwann cells in your peripheral nervous system or cranial nerves. Schwann cells assist the conduction of nerve impulses. Acoustic neuromas are the most common schwannoma. These tumors occur on your vestibular nerve (the nerve that leads from your inner ear to your brain).\n",
            "\n",
            "Cancerous (malignant) brain tumors\n",
            "\n",
            "Approximately 78% of cancerous primary brain tumors are gliomas. These tumors develop in glial cells, which surround and assist nerve cells. Types of gliomas include:\n",
            "\n",
            "Astrocytoma : These tumors are the most common type of glioma. They form in the star-shaped glial cells called astrocytes. They can form in many parts of your brain, but most commonly occur in your cerebrum.\n",
            "\n",
            ": These tumors are the most common type of glioma. They form in the star-shaped glial cells called astrocytes. They can form in many parts of your brain, but most commonly occur in your cerebrum. Ependymomas : These tumors often occur near the ventricles in your brain. Ependymomas develop from ependymal cells (called radial glial cells).\n",
            "\n",
            ": These tumors often occur near the ventricles in your brain. Ependymomas develop from ependymal cells (called radial glial cells). Glioblastoma (GBM) : These tumors form in glial cells called astrocytes. GBMs are the fastest-growing astrocytoma.\n",
            "\n",
            ": These tumors form in glial cells called astrocytes. GBMs are the fastest-growing astrocytoma. Oligodendroglioma: These uncommon tumors begin in cells that create myelin (a layer of insulation around nerves in your brain).\n",
            "\n",
            "Medulloblastoma is another type of cancerous brain tumor. These tumors are fast growing and form at the base of your skull. They’re the most common cancerous brain tumor in children.\n",
            "\n",
            "Who do brain tumors affect?\n",
            "\n",
            "Brain tumors affect children and adults and can develop at any age. They’re slightly more common in people assigned male at birth (AMAB) than people assigned female at birth (AFAB).\n",
            "\n",
            "Meningioma, which is usually benign, is the only type of brain tumor that’s more common in people AFAB.\n",
            "\n",
            "The most serious type of brain tumor, glioblastoma, is becoming more common among people who are as the general population ages.\n",
            "\n",
            "Advertisement\n",
            "\n",
            "How common are primary brain tumors?\n",
            "\n",
            "Primary brain tumors (tumors that originate in your brain) are uncommon. Only about 5 per 100,000 people are diagnosed with a primary brain tumor each year in the United States.\n",
            "\n",
            "About 4,100 children under the age of 15 are diagnosed with a brain or central nervous system tumor each year in the United States.\n",
            "\n",
            "How serious are brain tumors?\n",
            "\n",
            "Brain tumors — whether cancerous or not — can cause serious problems. This is because your skull is rigid and doesn’t provide room for the tumor to expand. Also, if a tumor develops near parts of your brain that control vital functions, it may cause symptoms, such as:\n",
            "\n",
            "Weakness.\n",
            "\n",
            "Difficulty walking.\n",
            "\n",
            "Problems with balance.\n",
            "\n",
            "Partial or complete loss of vision.\n",
            "\n",
            "Difficulty understanding or using language.\n",
            "\n",
            "Memory issues.\n",
            "\n",
            "Brain tumors can cause problems by:\n",
            "\n",
            "Directly invading and destroying healthy brain tissue.\n",
            "\n",
            "Putting pressure on nearby tissue.\n",
            "\n",
            "Increasing pressure within your skull (intracranial pressure).\n",
            "\n",
            "Causing fluid to build up in your brain.\n",
            "\n",
            "Blocking the normal flow of cerebrospinal fluid (CSF) through the spaces within your brain, causing those spaces to enlarge.\n",
            "\n",
            "Causing bleeding in your brain.\n",
            "\n",
            "However, some people have brain tumors that never cause symptoms or grow large enough to compress surrounding tissues.\n"
          ]
        }
      ]
    },
    {
      "cell_type": "code",
      "source": [
        "text = corpus\n",
        "sentence_list = nltk.sent_tokenize(text)"
      ],
      "metadata": {
        "id": "YQyX0jvU8nDY"
      },
      "execution_count": 31,
      "outputs": []
    },
    {
      "cell_type": "code",
      "source": [
        "print( sentence_list)"
      ],
      "metadata": {
        "colab": {
          "base_uri": "https://localhost:8080/"
        },
        "id": "D7hUl5B39Zay",
        "outputId": "5b9ded85-7fd5-4bd2-dc3c-f84836db7d26"
      },
      "execution_count": 32,
      "outputs": [
        {
          "output_type": "stream",
          "name": "stdout",
          "text": [
            "['What is a brain tumor?', 'A brain tumor is an abnormal growth or mass of cells in or around your brain.', 'Together, spinal tumors and brain tumors are called central nervous system (CNS) tumors.', 'Brain tumors can be malignant (cancerous) or benign (noncancerous).', 'Some tumors grow quickly, while others are slow growing.', 'Only about one-third of brain tumors are cancerous.', 'But whether they’re cancerous or not, brain tumors can impact brain function and your health if they grow large enough to press on surrounding nerves, blood vessels and tissue.', 'Tumors that develop in your brain are called primary tumors.', 'Tumors that spread to your brain after forming in a different part of your body are called secondary tumors, or metastatic brain tumors.', 'This article focuses on primary brain tumors.', 'Advertisement Cleveland Clinic is a non-profit academic medical center.', 'Advertising on our site helps support our mission.', 'We do not endorse non-Cleveland Clinic products or services.', 'Policy\\n\\nWhat are the types of brain tumors?', 'Researchers have identified more than 150 different brain tumors.', 'Healthcare providers categorize primary tumors as glial (composed of glial cells in your brain) or non-glial (developed on or in the structures of your brain, including nerves, blood vessels and glands) and benign (noncancerous) or malignant (cancerous).', 'Many types of brain tumors can also form in your spinal cord or column.', 'Usually benign brain tumors\\n\\nTypes of brain tumors that are usually benign include:\\n\\nChordomas : These slow-growing tumors typically begin at the base of your skull and the bottom part of your spine.', 'They’re mostly benign.', ': These slow-growing tumors typically begin at the base of your skull and the bottom part of your spine.', 'They’re mostly benign.', 'Craniopharyngiomas : These tumors usually arise from a portion of your pituitary gland.', 'They’re difficult tumors to remove because of their location near critical structures deep in your brain.', ': These tumors usually arise from a portion of your pituitary gland.', 'They’re difficult tumors to remove because of their location near critical structures deep in your brain.', 'Gangliocytomas, gangliomas and anaplastic gangliogliomas : These are rare tumors that form in neurons (nerve cells).', ': These are rare tumors that form in neurons (nerve cells).', 'Glomus jugulare : These tumors are typically located just under the base of your skull at the top of your jugular vein (neck vein).', 'They’re the most common form of glomus tumor.', ': These tumors are typically located just under the base of your skull at the top of your jugular vein (neck vein).', 'They’re the most common form of glomus tumor.', 'Meningiomas : These are the most common type of primary brain tumors.', 'Meningiomas typically develop slowly.', 'They form in the meninges, the layers of tissue that protect your brain and spinal cord.', 'In rare cases, a meningioma can be malignant.', ': These are the most common type of primary brain tumors.', 'Meningiomas typically develop slowly.', 'They form in the meninges, the layers of tissue that protect your brain and spinal cord.', 'In rare cases, a meningioma can be malignant.', 'Pineocytomas : These slow-growing tumors form in your pineal gland, which is located deep in your brain and secretes the hormone melatonin.', ': These slow-growing tumors form in your pineal gland, which is located deep in your brain and secretes the hormone melatonin.', 'Pituitary adenomas : These tumors form in your pituitary gland, which is located at the base of your brain.', 'Your pituitary gland makes and controls hormones in your body.', 'Pituitary adenomas are usually slow growing and they may release excess pituitary hormones.', ': These tumors form in your pituitary gland, which is located at the base of your brain.', 'Your pituitary gland makes and controls hormones in your body.', 'Pituitary adenomas are usually slow growing and they may release excess pituitary hormones.', 'Schwannomas: These are common benign brain tumors in adults.', 'They develop from the Schwann cells in your peripheral nervous system or cranial nerves.', 'Schwann cells assist the conduction of nerve impulses.', 'Acoustic neuromas are the most common schwannoma.', 'These tumors occur on your vestibular nerve (the nerve that leads from your inner ear to your brain).', 'Cancerous (malignant) brain tumors\\n\\nApproximately 78% of cancerous primary brain tumors are gliomas.', 'These tumors develop in glial cells, which surround and assist nerve cells.', 'Types of gliomas include:\\n\\nAstrocytoma : These tumors are the most common type of glioma.', 'They form in the star-shaped glial cells called astrocytes.', 'They can form in many parts of your brain, but most commonly occur in your cerebrum.', ': These tumors are the most common type of glioma.', 'They form in the star-shaped glial cells called astrocytes.', 'They can form in many parts of your brain, but most commonly occur in your cerebrum.', 'Ependymomas : These tumors often occur near the ventricles in your brain.', 'Ependymomas develop from ependymal cells (called radial glial cells).', ': These tumors often occur near the ventricles in your brain.', 'Ependymomas develop from ependymal cells (called radial glial cells).', 'Glioblastoma (GBM) : These tumors form in glial cells called astrocytes.', 'GBMs are the fastest-growing astrocytoma.', ': These tumors form in glial cells called astrocytes.', 'GBMs are the fastest-growing astrocytoma.', 'Oligodendroglioma: These uncommon tumors begin in cells that create myelin (a layer of insulation around nerves in your brain).', 'Medulloblastoma is another type of cancerous brain tumor.', 'These tumors are fast growing and form at the base of your skull.', 'They’re the most common cancerous brain tumor in children.', 'Who do brain tumors affect?', 'Brain tumors affect children and adults and can develop at any age.', 'They’re slightly more common in people assigned male at birth (AMAB) than people assigned female at birth (AFAB).', 'Meningioma, which is usually benign, is the only type of brain tumor that’s more common in people AFAB.', 'The most serious type of brain tumor, glioblastoma, is becoming more common among people who are as the general population ages.', 'Advertisement\\n\\nHow common are primary brain tumors?', 'Primary brain tumors (tumors that originate in your brain) are uncommon.', 'Only about 5 per 100,000 people are diagnosed with a primary brain tumor each year in the United States.', 'About 4,100 children under the age of 15 are diagnosed with a brain or central nervous system tumor each year in the United States.', 'How serious are brain tumors?', 'Brain tumors — whether cancerous or not — can cause serious problems.', 'This is because your skull is rigid and doesn’t provide room for the tumor to expand.', 'Also, if a tumor develops near parts of your brain that control vital functions, it may cause symptoms, such as:\\n\\nWeakness.', 'Difficulty walking.', 'Problems with balance.', 'Partial or complete loss of vision.', 'Difficulty understanding or using language.', 'Memory issues.', 'Brain tumors can cause problems by:\\n\\nDirectly invading and destroying healthy brain tissue.', 'Putting pressure on nearby tissue.', 'Increasing pressure within your skull (intracranial pressure).', 'Causing fluid to build up in your brain.', 'Blocking the normal flow of cerebrospinal fluid (CSF) through the spaces within your brain, causing those spaces to enlarge.', 'Causing bleeding in your brain.', 'However, some people have brain tumors that never cause symptoms or grow large enough to compress surrounding tissues.']\n"
          ]
        }
      ]
    },
    {
      "cell_type": "code",
      "source": [
        "def greeting_response(text):\n",
        "  text = text.lower()\n",
        "  bot_greetings =['Hi', 'Hello' , 'Hola', 'Howdy' ,'Hey']\n",
        "  users_greetings = ['hi', 'hello' , 'hola', 'greetings' ,'hey']\n",
        "\n",
        "  for word in text.split():\n",
        "    if word in users_greetings :\n",
        "      return random.choice(bot_greetings)"
      ],
      "metadata": {
        "id": "haOQgr4Y9fJ2"
      },
      "execution_count": 33,
      "outputs": []
    },
    {
      "cell_type": "code",
      "source": [
        "def index_sort(list_var):\n",
        "  length = len (list_var)\n",
        "  list_index = list (range(0, length))\n",
        "  x = list_var\n",
        "\n",
        "  for i in range(length):\n",
        "    for j in range(length):\n",
        "      if x[list_index[i]]> x[list_index[j]]:\n",
        "        temp = list_index[i]\n",
        "        list_index[i] = list_index[j]\n",
        "        list_index[j] = temp\n",
        "\n",
        "  return list_index"
      ],
      "metadata": {
        "id": "sMjB7BsXBQdy"
      },
      "execution_count": 34,
      "outputs": []
    },
    {
      "cell_type": "code",
      "source": [
        "def bot_response(user_input):\n",
        "  user_input = user_input.lower()\n",
        "  sentence_list.append(user_input)\n",
        "  bot_response =''\n",
        "  cm = CountVectorizer().fit_transform(sentence_list)\n",
        "  similarity_scores = cosine_similarity( cm[-1], cm)\n",
        "  similarity_scores_list = similarity_scores.flatten()\n",
        "  index = index_sort(similarity_scores_list)\n",
        "  index = index[1:]\n",
        "  response_flag = 0\n",
        "\n",
        "  j=0\n",
        "  for i in range(len(index)):\n",
        "    if similarity_scores_list[index[i]] > 0.0:\n",
        "      bot_response += ' ' + sentence_list[index[i]]\n",
        "      response_flag =1\n",
        "      j=j+1\n",
        "\n",
        "    if j>2:\n",
        "      break\n",
        "\n",
        "\n",
        "  if response_flag == 0 :\n",
        "    bot_response = bot_response + ' ' +\"I apologize, I don't understand.\"\n",
        "\n",
        "  sentence_list.remove(user_input)\n",
        "\n",
        "  return bot_response"
      ],
      "metadata": {
        "id": "t7ckAAiR_Gdb"
      },
      "execution_count": 35,
      "outputs": []
    },
    {
      "cell_type": "code",
      "source": [
        "print('Bot: I am your Assitance. I will answer all your queries regarding Brain Cancer(Brain tumor)')\n",
        "\n",
        "exit_list = ['exit', 'quit', 'break', 'bye', 'see you later' ]\n",
        "\n",
        "while (True):\n",
        "  user_input = input()\n",
        "  if user_input.lower() in exit_list:\n",
        "    print('Bot : Sure, come Again!!! :)')\n",
        "    break\n",
        "  else:\n",
        "    if greeting_response(user_input)!=None:\n",
        "      print('Bot: '+greeting_response(user_input))\n",
        "    else:\n",
        "      print('Bot: '+ bot_response(user_input))"
      ],
      "metadata": {
        "colab": {
          "base_uri": "https://localhost:8080/"
        },
        "id": "p6OIHCfAPqPE",
        "outputId": "53e4af6a-39a4-4fa0-a0f3-4004bb2c41e0"
      },
      "execution_count": null,
      "outputs": [
        {
          "output_type": "stream",
          "name": "stdout",
          "text": [
            "Bot: I am your Assitance. I will answer all your queries regarding Brain Cancer(Brain tumor)\n"
          ]
        }
      ]
    },
    {
      "cell_type": "code",
      "source": [],
      "metadata": {
        "id": "OwRPWVbASAUt"
      },
      "execution_count": null,
      "outputs": []
    }
  ]
}